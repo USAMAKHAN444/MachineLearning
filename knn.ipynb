{
 "cells": [
  {
   "cell_type": "code",
   "execution_count": 17,
   "metadata": {
    "collapsed": true
   },
   "outputs": [],
   "source": [
    "import pandas as pd"
   ]
  },
  {
   "cell_type": "code",
   "execution_count": 18,
   "outputs": [
    {
     "data": {
      "text/plain": "    Lablel    F1        F2        F3        F4        F5\n0        A  0.01  1.322266  0.042325  0.083058  2.985704\n1        A  0.20  0.551053  0.003911  0.007665  1.340157\n2        A  0.40  0.414749  0.002090  0.004097  1.216423\n3        A  0.60  0.338810  0.001390  0.002725  1.153656\n4        A  0.80  0.290915  0.001028  0.002015  1.123518\n..     ...   ...       ...       ...       ...       ...\n73  Random  0.20  0.212756  0.002117  0.004149  1.079441\n74  Random  0.40  0.159686  0.001138  0.002230  1.047789\n75  Random  0.60  0.125008  0.000721  0.001413  1.032095\n76  Random  0.80  0.110917  0.000553  0.001085  1.023662\n77  Random  1.00  0.095540  0.000428  0.000839  1.019107\n\n[78 rows x 6 columns]",
      "text/html": "<div>\n<style scoped>\n    .dataframe tbody tr th:only-of-type {\n        vertical-align: middle;\n    }\n\n    .dataframe tbody tr th {\n        vertical-align: top;\n    }\n\n    .dataframe thead th {\n        text-align: right;\n    }\n</style>\n<table border=\"1\" class=\"dataframe\">\n  <thead>\n    <tr style=\"text-align: right;\">\n      <th></th>\n      <th>Lablel</th>\n      <th>F1</th>\n      <th>F2</th>\n      <th>F3</th>\n      <th>F4</th>\n      <th>F5</th>\n    </tr>\n  </thead>\n  <tbody>\n    <tr>\n      <th>0</th>\n      <td>A</td>\n      <td>0.01</td>\n      <td>1.322266</td>\n      <td>0.042325</td>\n      <td>0.083058</td>\n      <td>2.985704</td>\n    </tr>\n    <tr>\n      <th>1</th>\n      <td>A</td>\n      <td>0.20</td>\n      <td>0.551053</td>\n      <td>0.003911</td>\n      <td>0.007665</td>\n      <td>1.340157</td>\n    </tr>\n    <tr>\n      <th>2</th>\n      <td>A</td>\n      <td>0.40</td>\n      <td>0.414749</td>\n      <td>0.002090</td>\n      <td>0.004097</td>\n      <td>1.216423</td>\n    </tr>\n    <tr>\n      <th>3</th>\n      <td>A</td>\n      <td>0.60</td>\n      <td>0.338810</td>\n      <td>0.001390</td>\n      <td>0.002725</td>\n      <td>1.153656</td>\n    </tr>\n    <tr>\n      <th>4</th>\n      <td>A</td>\n      <td>0.80</td>\n      <td>0.290915</td>\n      <td>0.001028</td>\n      <td>0.002015</td>\n      <td>1.123518</td>\n    </tr>\n    <tr>\n      <th>...</th>\n      <td>...</td>\n      <td>...</td>\n      <td>...</td>\n      <td>...</td>\n      <td>...</td>\n      <td>...</td>\n    </tr>\n    <tr>\n      <th>73</th>\n      <td>Random</td>\n      <td>0.20</td>\n      <td>0.212756</td>\n      <td>0.002117</td>\n      <td>0.004149</td>\n      <td>1.079441</td>\n    </tr>\n    <tr>\n      <th>74</th>\n      <td>Random</td>\n      <td>0.40</td>\n      <td>0.159686</td>\n      <td>0.001138</td>\n      <td>0.002230</td>\n      <td>1.047789</td>\n    </tr>\n    <tr>\n      <th>75</th>\n      <td>Random</td>\n      <td>0.60</td>\n      <td>0.125008</td>\n      <td>0.000721</td>\n      <td>0.001413</td>\n      <td>1.032095</td>\n    </tr>\n    <tr>\n      <th>76</th>\n      <td>Random</td>\n      <td>0.80</td>\n      <td>0.110917</td>\n      <td>0.000553</td>\n      <td>0.001085</td>\n      <td>1.023662</td>\n    </tr>\n    <tr>\n      <th>77</th>\n      <td>Random</td>\n      <td>1.00</td>\n      <td>0.095540</td>\n      <td>0.000428</td>\n      <td>0.000839</td>\n      <td>1.019107</td>\n    </tr>\n  </tbody>\n</table>\n<p>78 rows × 6 columns</p>\n</div>"
     },
     "execution_count": 18,
     "metadata": {},
     "output_type": "execute_result"
    }
   ],
   "source": [
    "data=pd.read_csv(\"SR_Data.csv\")\n",
    "data"
   ],
   "metadata": {
    "collapsed": false,
    "pycharm": {
     "name": "#%%\n"
    }
   }
  },
  {
   "cell_type": "code",
   "execution_count": 19,
   "outputs": [],
   "source": [
    "X=data[['F1','F2','F3','F4','F5']]\n",
    "y = data['Lablel']"
   ],
   "metadata": {
    "collapsed": false,
    "pycharm": {
     "name": "#%%\n"
    }
   }
  },
  {
   "cell_type": "code",
   "execution_count": 20,
   "outputs": [
    {
     "data": {
      "text/plain": "      F1        F2        F3        F4        F5\n0   0.01  1.322266  0.042325  0.083058  2.985704\n1   0.20  0.551053  0.003911  0.007665  1.340157\n2   0.40  0.414749  0.002090  0.004097  1.216423\n3   0.60  0.338810  0.001390  0.002725  1.153656\n4   0.80  0.290915  0.001028  0.002015  1.123518\n..   ...       ...       ...       ...       ...\n73  0.20  0.212756  0.002117  0.004149  1.079441\n74  0.40  0.159686  0.001138  0.002230  1.047789\n75  0.60  0.125008  0.000721  0.001413  1.032095\n76  0.80  0.110917  0.000553  0.001085  1.023662\n77  1.00  0.095540  0.000428  0.000839  1.019107\n\n[78 rows x 5 columns]",
      "text/html": "<div>\n<style scoped>\n    .dataframe tbody tr th:only-of-type {\n        vertical-align: middle;\n    }\n\n    .dataframe tbody tr th {\n        vertical-align: top;\n    }\n\n    .dataframe thead th {\n        text-align: right;\n    }\n</style>\n<table border=\"1\" class=\"dataframe\">\n  <thead>\n    <tr style=\"text-align: right;\">\n      <th></th>\n      <th>F1</th>\n      <th>F2</th>\n      <th>F3</th>\n      <th>F4</th>\n      <th>F5</th>\n    </tr>\n  </thead>\n  <tbody>\n    <tr>\n      <th>0</th>\n      <td>0.01</td>\n      <td>1.322266</td>\n      <td>0.042325</td>\n      <td>0.083058</td>\n      <td>2.985704</td>\n    </tr>\n    <tr>\n      <th>1</th>\n      <td>0.20</td>\n      <td>0.551053</td>\n      <td>0.003911</td>\n      <td>0.007665</td>\n      <td>1.340157</td>\n    </tr>\n    <tr>\n      <th>2</th>\n      <td>0.40</td>\n      <td>0.414749</td>\n      <td>0.002090</td>\n      <td>0.004097</td>\n      <td>1.216423</td>\n    </tr>\n    <tr>\n      <th>3</th>\n      <td>0.60</td>\n      <td>0.338810</td>\n      <td>0.001390</td>\n      <td>0.002725</td>\n      <td>1.153656</td>\n    </tr>\n    <tr>\n      <th>4</th>\n      <td>0.80</td>\n      <td>0.290915</td>\n      <td>0.001028</td>\n      <td>0.002015</td>\n      <td>1.123518</td>\n    </tr>\n    <tr>\n      <th>...</th>\n      <td>...</td>\n      <td>...</td>\n      <td>...</td>\n      <td>...</td>\n      <td>...</td>\n    </tr>\n    <tr>\n      <th>73</th>\n      <td>0.20</td>\n      <td>0.212756</td>\n      <td>0.002117</td>\n      <td>0.004149</td>\n      <td>1.079441</td>\n    </tr>\n    <tr>\n      <th>74</th>\n      <td>0.40</td>\n      <td>0.159686</td>\n      <td>0.001138</td>\n      <td>0.002230</td>\n      <td>1.047789</td>\n    </tr>\n    <tr>\n      <th>75</th>\n      <td>0.60</td>\n      <td>0.125008</td>\n      <td>0.000721</td>\n      <td>0.001413</td>\n      <td>1.032095</td>\n    </tr>\n    <tr>\n      <th>76</th>\n      <td>0.80</td>\n      <td>0.110917</td>\n      <td>0.000553</td>\n      <td>0.001085</td>\n      <td>1.023662</td>\n    </tr>\n    <tr>\n      <th>77</th>\n      <td>1.00</td>\n      <td>0.095540</td>\n      <td>0.000428</td>\n      <td>0.000839</td>\n      <td>1.019107</td>\n    </tr>\n  </tbody>\n</table>\n<p>78 rows × 5 columns</p>\n</div>"
     },
     "execution_count": 20,
     "metadata": {},
     "output_type": "execute_result"
    }
   ],
   "source": [
    "X\n"
   ],
   "metadata": {
    "collapsed": false,
    "pycharm": {
     "name": "#%%\n"
    }
   }
  },
  {
   "cell_type": "code",
   "execution_count": 21,
   "outputs": [
    {
     "data": {
      "text/plain": "0          A\n1          A\n2          A\n3          A\n4          A\n       ...  \n73    Random\n74    Random\n75    Random\n76    Random\n77    Random\nName: Lablel, Length: 78, dtype: object"
     },
     "execution_count": 21,
     "metadata": {},
     "output_type": "execute_result"
    }
   ],
   "source": [
    "y"
   ],
   "metadata": {
    "collapsed": false,
    "pycharm": {
     "name": "#%%\n"
    }
   }
  },
  {
   "cell_type": "code",
   "execution_count": 22,
   "outputs": [],
   "source": [
    "from sklearn.preprocessing import LabelEncoder\n",
    "le=LabelEncoder()\n",
    "y=le.fit_transform(y)"
   ],
   "metadata": {
    "collapsed": false,
    "pycharm": {
     "name": "#%%\n"
    }
   }
  },
  {
   "cell_type": "code",
   "execution_count": 23,
   "outputs": [],
   "source": [
    "from sklearn.model_selection import train_test_split\n",
    "X_train, X_test,y_train, y_test = train_test_split(X,y,test_size=0.2, random_state=1)"
   ],
   "metadata": {
    "collapsed": false,
    "pycharm": {
     "name": "#%%\n"
    }
   }
  },
  {
   "cell_type": "code",
   "execution_count": 24,
   "outputs": [
    {
     "data": {
      "text/plain": "KNeighborsClassifier()",
      "text/html": "<style>#sk-container-id-3 {color: black;background-color: white;}#sk-container-id-3 pre{padding: 0;}#sk-container-id-3 div.sk-toggleable {background-color: white;}#sk-container-id-3 label.sk-toggleable__label {cursor: pointer;display: block;width: 100%;margin-bottom: 0;padding: 0.3em;box-sizing: border-box;text-align: center;}#sk-container-id-3 label.sk-toggleable__label-arrow:before {content: \"▸\";float: left;margin-right: 0.25em;color: #696969;}#sk-container-id-3 label.sk-toggleable__label-arrow:hover:before {color: black;}#sk-container-id-3 div.sk-estimator:hover label.sk-toggleable__label-arrow:before {color: black;}#sk-container-id-3 div.sk-toggleable__content {max-height: 0;max-width: 0;overflow: hidden;text-align: left;background-color: #f0f8ff;}#sk-container-id-3 div.sk-toggleable__content pre {margin: 0.2em;color: black;border-radius: 0.25em;background-color: #f0f8ff;}#sk-container-id-3 input.sk-toggleable__control:checked~div.sk-toggleable__content {max-height: 200px;max-width: 100%;overflow: auto;}#sk-container-id-3 input.sk-toggleable__control:checked~label.sk-toggleable__label-arrow:before {content: \"▾\";}#sk-container-id-3 div.sk-estimator input.sk-toggleable__control:checked~label.sk-toggleable__label {background-color: #d4ebff;}#sk-container-id-3 div.sk-label input.sk-toggleable__control:checked~label.sk-toggleable__label {background-color: #d4ebff;}#sk-container-id-3 input.sk-hidden--visually {border: 0;clip: rect(1px 1px 1px 1px);clip: rect(1px, 1px, 1px, 1px);height: 1px;margin: -1px;overflow: hidden;padding: 0;position: absolute;width: 1px;}#sk-container-id-3 div.sk-estimator {font-family: monospace;background-color: #f0f8ff;border: 1px dotted black;border-radius: 0.25em;box-sizing: border-box;margin-bottom: 0.5em;}#sk-container-id-3 div.sk-estimator:hover {background-color: #d4ebff;}#sk-container-id-3 div.sk-parallel-item::after {content: \"\";width: 100%;border-bottom: 1px solid gray;flex-grow: 1;}#sk-container-id-3 div.sk-label:hover label.sk-toggleable__label {background-color: #d4ebff;}#sk-container-id-3 div.sk-serial::before {content: \"\";position: absolute;border-left: 1px solid gray;box-sizing: border-box;top: 0;bottom: 0;left: 50%;z-index: 0;}#sk-container-id-3 div.sk-serial {display: flex;flex-direction: column;align-items: center;background-color: white;padding-right: 0.2em;padding-left: 0.2em;position: relative;}#sk-container-id-3 div.sk-item {position: relative;z-index: 1;}#sk-container-id-3 div.sk-parallel {display: flex;align-items: stretch;justify-content: center;background-color: white;position: relative;}#sk-container-id-3 div.sk-item::before, #sk-container-id-3 div.sk-parallel-item::before {content: \"\";position: absolute;border-left: 1px solid gray;box-sizing: border-box;top: 0;bottom: 0;left: 50%;z-index: -1;}#sk-container-id-3 div.sk-parallel-item {display: flex;flex-direction: column;z-index: 1;position: relative;background-color: white;}#sk-container-id-3 div.sk-parallel-item:first-child::after {align-self: flex-end;width: 50%;}#sk-container-id-3 div.sk-parallel-item:last-child::after {align-self: flex-start;width: 50%;}#sk-container-id-3 div.sk-parallel-item:only-child::after {width: 0;}#sk-container-id-3 div.sk-dashed-wrapped {border: 1px dashed gray;margin: 0 0.4em 0.5em 0.4em;box-sizing: border-box;padding-bottom: 0.4em;background-color: white;}#sk-container-id-3 div.sk-label label {font-family: monospace;font-weight: bold;display: inline-block;line-height: 1.2em;}#sk-container-id-3 div.sk-label-container {text-align: center;}#sk-container-id-3 div.sk-container {/* jupyter's `normalize.less` sets `[hidden] { display: none; }` but bootstrap.min.css set `[hidden] { display: none !important; }` so we also need the `!important` here to be able to override the default hidden behavior on the sphinx rendered scikit-learn.org. See: https://github.com/scikit-learn/scikit-learn/issues/21755 */display: inline-block !important;position: relative;}#sk-container-id-3 div.sk-text-repr-fallback {display: none;}</style><div id=\"sk-container-id-3\" class=\"sk-top-container\"><div class=\"sk-text-repr-fallback\"><pre>KNeighborsClassifier()</pre><b>In a Jupyter environment, please rerun this cell to show the HTML representation or trust the notebook. <br />On GitHub, the HTML representation is unable to render, please try loading this page with nbviewer.org.</b></div><div class=\"sk-container\" hidden><div class=\"sk-item\"><div class=\"sk-estimator sk-toggleable\"><input class=\"sk-toggleable__control sk-hidden--visually\" id=\"sk-estimator-id-3\" type=\"checkbox\" checked><label for=\"sk-estimator-id-3\" class=\"sk-toggleable__label sk-toggleable__label-arrow\">KNeighborsClassifier</label><div class=\"sk-toggleable__content\"><pre>KNeighborsClassifier()</pre></div></div></div></div></div>"
     },
     "execution_count": 24,
     "metadata": {},
     "output_type": "execute_result"
    }
   ],
   "source": [
    "from sklearn.neighbors import KNeighborsClassifier\n",
    "classifier = KNeighborsClassifier(n_neighbors=5)\n",
    "classifier.fit(X_train,y_train)"
   ],
   "metadata": {
    "collapsed": false,
    "pycharm": {
     "name": "#%%\n"
    }
   }
  },
  {
   "cell_type": "code",
   "execution_count": 25,
   "outputs": [
    {
     "data": {
      "text/plain": "0.8125"
     },
     "execution_count": 25,
     "metadata": {},
     "output_type": "execute_result"
    }
   ],
   "source": [
    "classifier.score(X_test,y_test)"
   ],
   "metadata": {
    "collapsed": false,
    "pycharm": {
     "name": "#%%\n"
    }
   }
  },
  {
   "cell_type": "code",
   "execution_count": 26,
   "outputs": [
    {
     "data": {
      "text/plain": "array([2, 1, 1, 0, 2, 1, 2, 2, 2, 1, 1, 1, 0, 2, 1, 0])"
     },
     "execution_count": 26,
     "metadata": {},
     "output_type": "execute_result"
    }
   ],
   "source": [
    "predicted = classifier.predict(X_test)\n",
    "predicted"
   ],
   "metadata": {
    "collapsed": false,
    "pycharm": {
     "name": "#%%\n"
    }
   }
  },
  {
   "cell_type": "code",
   "execution_count": 27,
   "outputs": [
    {
     "data": {
      "text/plain": "<sklearn.metrics._plot.confusion_matrix.ConfusionMatrixDisplay at 0x7fd7c2119900>"
     },
     "execution_count": 27,
     "metadata": {},
     "output_type": "execute_result"
    },
    {
     "data": {
      "text/plain": "<Figure size 432x288 with 2 Axes>",
      "image/png": "[encoded data removed]"
     },
     "metadata": {
      "needs_background": "light"
     },
     "output_type": "display_data"
    }
   ],
   "source": [
    "from sklearn import metrics\n",
    "confusion_matrix = metrics.confusion_matrix(y_test,predicted)\n",
    "cm_display = metrics.ConfusionMatrixDisplay(confusion_matrix = confusion_matrix)\n",
    "cm_display.plot()"
   ],
   "metadata": {
    "collapsed": false,
    "pycharm": {
     "name": "#%%\n"
    }
   }
  },
  {
   "cell_type": "code",
   "execution_count": 27,
   "outputs": [],
   "source": [],
   "metadata": {
    "collapsed": false,
    "pycharm": {
     "name": "#%%\n"
    }
   }
  }
 ],
 "metadata": {
  "kernelspec": {
   "display_name": "Python 3",
   "language": "python",
   "name": "python3"
  },
  "language_info": {
   "codemirror_mode": {
    "name": "ipython",
    "version": 2
   },
   "file_extension": ".py",
   "mimetype": "text/x-python",
   "name": "python",
   "nbconvert_exporter": "python",
   "pygments_lexer": "ipython2",
   "version": "2.7.6"
  }
 },
 "nbformat": 4,
 "nbformat_minor": 0
}